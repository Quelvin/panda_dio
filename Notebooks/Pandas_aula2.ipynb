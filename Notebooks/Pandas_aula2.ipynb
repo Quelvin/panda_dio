{
  "nbformat": 4,
  "nbformat_minor": 0,
  "metadata": {
    "colab": {
      "provenance": []
    },
    "kernelspec": {
      "name": "python3",
      "display_name": "Python 3"
    },
    "language_info": {
      "name": "python"
    }
  },
  "cells": [
    {
      "cell_type": "markdown",
      "source": [
        "# Listas"
      ],
      "metadata": {
        "id": "nrGpChGeFKbP"
      }
    },
    {
      "cell_type": "code",
      "execution_count": 1,
      "metadata": {
        "colab": {
          "base_uri": "https://localhost:8080/",
          "height": 36
        },
        "id": "O1bpYR6QDYSD",
        "outputId": "a66b0ea5-a2bb-41b1-c9b8-62883f589b15"
      },
      "outputs": [
        {
          "output_type": "execute_result",
          "data": {
            "text/plain": [
              "'amarelo'"
            ],
            "application/vnd.google.colaboratory.intrinsic+json": {
              "type": "string"
            }
          },
          "metadata": {},
          "execution_count": 1
        }
      ],
      "source": [
        "# Criando lista de cores\n",
        "\n",
        "cores = [\"vermelho\",\"verde\",\"amarelo\",\"rosa\"]\n",
        "cores[2]"
      ]
    },
    {
      "cell_type": "code",
      "source": [
        "itens= [25,\"rosa\",False,2.5050,\"MAMÃO\"]\n",
        "print(itens[2])"
      ],
      "metadata": {
        "colab": {
          "base_uri": "https://localhost:8080/"
        },
        "id": "Ss31eUdYD4tK",
        "outputId": "8b45cad1-407f-444f-e1bd-b962427b2412"
      },
      "execution_count": 4,
      "outputs": [
        {
          "output_type": "stream",
          "name": "stdout",
          "text": [
            "False\n"
          ]
        }
      ]
    },
    {
      "cell_type": "code",
      "source": [
        "print(type(itens))"
      ],
      "metadata": {
        "colab": {
          "base_uri": "https://localhost:8080/"
        },
        "id": "MZRDHN-5EOqc",
        "outputId": "adaf4060-0ada-4773-8d92-7c54d61f4b8b"
      },
      "execution_count": 5,
      "outputs": [
        {
          "output_type": "stream",
          "name": "stdout",
          "text": [
            "<class 'list'>\n"
          ]
        }
      ]
    },
    {
      "cell_type": "code",
      "source": [
        "# Tamanho das litas - Ídice começa em 0\n",
        "len(cores), len(itens)"
      ],
      "metadata": {
        "colab": {
          "base_uri": "https://localhost:8080/"
        },
        "id": "HxPp0WHPEVY1",
        "outputId": "2c652dee-17fe-431f-c2ab-1940e3d61e13"
      },
      "execution_count": 7,
      "outputs": [
        {
          "output_type": "execute_result",
          "data": {
            "text/plain": [
              "(4, 5)"
            ]
          },
          "metadata": {},
          "execution_count": 7
        }
      ]
    },
    {
      "cell_type": "code",
      "source": [
        "valores = [10,50,300,99,8,13,13,88,66,25.3]\n",
        "print(f' Menor valor da lista é: {min(valores)} Maior valor da lista é: {max(valores)}')"
      ],
      "metadata": {
        "colab": {
          "base_uri": "https://localhost:8080/"
        },
        "id": "qBtnSf9xEmU_",
        "outputId": "1fa9dd64-e2a1-4d94-baaf-3978a7f731ab"
      },
      "execution_count": 11,
      "outputs": [
        {
          "output_type": "stream",
          "name": "stdout",
          "text": [
            " Menor valor da lista é: 8 Maior valor da lista é: 300\n"
          ]
        }
      ]
    },
    {
      "cell_type": "code",
      "source": [
        "# Ordernar lista, ordem crescente\n",
        "valores.sort()\n",
        "print(valores)"
      ],
      "metadata": {
        "colab": {
          "base_uri": "https://localhost:8080/"
        },
        "id": "PtY_IpF3FTWT",
        "outputId": "4a06b9f3-59c4-48c9-ab60-4ef4ebf1a1e9"
      },
      "execution_count": 14,
      "outputs": [
        {
          "output_type": "stream",
          "name": "stdout",
          "text": [
            "[8, 10, 13, 13, 25.3, 50, 66, 88, 99, 300]\n"
          ]
        }
      ]
    },
    {
      "cell_type": "markdown",
      "source": [
        "# Tuplas"
      ],
      "metadata": {
        "id": "V3haulUTFkDv"
      }
    },
    {
      "cell_type": "code",
      "source": [
        "tupla = (10,13,15,17.2,\"Carro\",\"Moto\", 10,\"Carro\")\n",
        "tupla"
      ],
      "metadata": {
        "colab": {
          "base_uri": "https://localhost:8080/"
        },
        "id": "-1xlLH1-FmsL",
        "outputId": "615bdd8f-96dd-4a66-a65f-5d6583147606"
      },
      "execution_count": 19,
      "outputs": [
        {
          "output_type": "execute_result",
          "data": {
            "text/plain": [
              "(10, 13, 15, 17.2, 'Carro', 'Moto', 10, 'Carro')"
            ]
          },
          "metadata": {},
          "execution_count": 19
        }
      ]
    },
    {
      "cell_type": "code",
      "source": [
        "type(tupla)"
      ],
      "metadata": {
        "colab": {
          "base_uri": "https://localhost:8080/"
        },
        "id": "TxpWB8PkF0Bl",
        "outputId": "d495bf4e-6c42-4c1f-cd09-9d43305776c4"
      },
      "execution_count": 16,
      "outputs": [
        {
          "output_type": "execute_result",
          "data": {
            "text/plain": [
              "tuple"
            ]
          },
          "metadata": {},
          "execution_count": 16
        }
      ]
    },
    {
      "cell_type": "code",
      "source": [
        "# Contar itens\n",
        "tupla.count(10)"
      ],
      "metadata": {
        "colab": {
          "base_uri": "https://localhost:8080/"
        },
        "id": "KfkpA80cF-wv",
        "outputId": "8300b428-6250-440d-eea7-652a6cfb7aa3"
      },
      "execution_count": 21,
      "outputs": [
        {
          "output_type": "execute_result",
          "data": {
            "text/plain": [
              "2"
            ]
          },
          "metadata": {},
          "execution_count": 21
        }
      ]
    },
    {
      "cell_type": "markdown",
      "source": [
        "# Dicionários"
      ],
      "metadata": {
        "id": "9yhwnLn9GQLF"
      }
    },
    {
      "cell_type": "code",
      "source": [
        "# Dicionários possuem chave e valor\n",
        "dic = {\"Corsa\":\"Vermelho\",\"Celta\":\"Preto\",\"Ferrari\":\"Rosa\",\"Onix\":\"Grafite\",\"Gol\":\"Branco\"}\n",
        "type(dic)"
      ],
      "metadata": {
        "colab": {
          "base_uri": "https://localhost:8080/"
        },
        "id": "qP5Ual2uGSqN",
        "outputId": "f5a377a1-cbde-4609-a419-a2d70ef521bd"
      },
      "execution_count": 23,
      "outputs": [
        {
          "output_type": "execute_result",
          "data": {
            "text/plain": [
              "dict"
            ]
          },
          "metadata": {},
          "execution_count": 23
        }
      ]
    },
    {
      "cell_type": "code",
      "source": [
        "# Chaves\n",
        "dic.keys()"
      ],
      "metadata": {
        "colab": {
          "base_uri": "https://localhost:8080/"
        },
        "id": "W5K4se_LGqge",
        "outputId": "eae2ada8-5698-4c3f-a6c0-b4c8e77eb715"
      },
      "execution_count": 25,
      "outputs": [
        {
          "output_type": "execute_result",
          "data": {
            "text/plain": [
              "dict_keys(['Corsa', 'Celta', 'Ferrari', 'Onix', 'Gol'])"
            ]
          },
          "metadata": {},
          "execution_count": 25
        }
      ]
    },
    {
      "cell_type": "code",
      "source": [
        "# Valores\n",
        "dic.values()"
      ],
      "metadata": {
        "colab": {
          "base_uri": "https://localhost:8080/"
        },
        "id": "3ZWk-jlEGwiA",
        "outputId": "932c1086-0ee7-4452-82a7-cb603a88fd3a"
      },
      "execution_count": 26,
      "outputs": [
        {
          "output_type": "execute_result",
          "data": {
            "text/plain": [
              "dict_values(['Vermelho', 'Preto', 'Rosa', 'Grafite', 'Branco'])"
            ]
          },
          "metadata": {},
          "execution_count": 26
        }
      ]
    },
    {
      "cell_type": "code",
      "source": [
        "# Inserindo itens\n",
        "dic.setdefault(\"HB20\",\"Verde\")\n",
        "dic"
      ],
      "metadata": {
        "colab": {
          "base_uri": "https://localhost:8080/"
        },
        "id": "2uffEDbmG6aL",
        "outputId": "b96ecdb3-083b-4501-cc74-26f7e910908e"
      },
      "execution_count": 29,
      "outputs": [
        {
          "output_type": "execute_result",
          "data": {
            "text/plain": [
              "{'Corsa': 'Vermelho',\n",
              " 'Celta': 'Preto',\n",
              " 'Ferrari': 'Rosa',\n",
              " 'Onix': 'Grafite',\n",
              " 'Gol': 'Branco',\n",
              " 'HB20': 'Verde'}"
            ]
          },
          "metadata": {},
          "execution_count": 29
        }
      ]
    }
  ]
}